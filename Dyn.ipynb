{
  "nbformat": 4,
  "nbformat_minor": 0,
  "metadata": {
    "colab": {
      "name": "Dyn.ipynb",
      "version": "0.3.2",
      "provenance": [],
      "include_colab_link": true
    },
    "kernelspec": {
      "name": "python3",
      "display_name": "Python 3"
    }
  },
  "cells": [
    {
      "cell_type": "markdown",
      "metadata": {
        "id": "view-in-github",
        "colab_type": "text"
      },
      "source": [
        "<a href=\"https://colab.research.google.com/github/HabiburRahman028/Algorithms/blob/master/Dyn.ipynb\" target=\"_parent\"><img src=\"https://colab.research.google.com/assets/colab-badge.svg\" alt=\"Open In Colab\"/></a>"
      ]
    },
    {
      "metadata": {
        "id": "WT49j73I9dnw",
        "colab_type": "code",
        "colab": {}
      },
      "cell_type": "code",
      "source": [
        "#res = [x,y]\n",
        "X = [[0,1],[1,1]]"
      ],
      "execution_count": 0,
      "outputs": []
    },
    {
      "metadata": {
        "id": "D0Yj4eEq-IfT",
        "colab_type": "code",
        "outputId": "f6b42b5f-278a-45d5-f677-31fc89e85349",
        "colab": {
          "base_uri": "https://localhost:8080/",
          "height": 34
        }
      },
      "cell_type": "code",
      "source": [
        "print(X)"
      ],
      "execution_count": 0,
      "outputs": [
        {
          "output_type": "stream",
          "text": [
            "[[0, 1], [1, 1]]\n"
          ],
          "name": "stdout"
        }
      ]
    },
    {
      "metadata": {
        "id": "y7juliRg-xf-",
        "colab_type": "code",
        "outputId": "fe04fbf8-1873-49d4-da90-eca154514408",
        "colab": {
          "base_uri": "https://localhost:8080/",
          "height": 128
        }
      },
      "cell_type": "code",
      "source": [
        "# if we \n",
        "we can achieve this mutual recurrence dF same speed up using the identitty  - "
      ],
      "execution_count": 0,
      "outputs": [
        {
          "output_type": "error",
          "ename": "SyntaxError",
          "evalue": "ignored",
          "traceback": [
            "\u001b[0;36m  File \u001b[0;32m\"<ipython-input-5-4f76d650e257>\"\u001b[0;36m, line \u001b[0;32m1\u001b[0m\n\u001b[0;31m    we can achieve this mutual recurrence dF same speed up using the identitty  -\u001b[0m\n\u001b[0m         ^\u001b[0m\n\u001b[0;31mSyntaxError\u001b[0m\u001b[0;31m:\u001b[0m invalid syntax\n"
          ]
        }
      ]
    },
    {
      "metadata": {
        "id": "yULKn13eC1iH",
        "colab_type": "code",
        "colab": {}
      },
      "cell_type": "code",
      "source": [
        "F_n = Fm * Fn-m-1 + Fm+1Fn-m ... \n",
        "\n",
        "  0     1     1       2      3       5      8      13   21 \n",
        "\n",
        "f(0)   f(1)   f(1)   f(2)    f(3)   f(4)   f(5)\n",
        "\n",
        "f_5 = f_4 * f_1 + f_3 * f_2\n",
        " \n",
        "\n",
        "  f4 + f3\n",
        "  \n",
        "  f3 + f2 +f3\n",
        "  "
      ],
      "execution_count": 0,
      "outputs": []
    },
    {
      "metadata": {
        "id": "p0EP-29jOsAs",
        "colab_type": "text"
      },
      "cell_type": "markdown",
      "source": [
        "For our next dynamic programming algorithm, let's consider the text segmentation problem from the previous chpater. .We are given a string A[1.. n] and a subroutine isWord that determines whether a given string is a word ()\n",
        "\n",
        "A can be partitioned into a sequence of words.  \n",
        "\n",
        "IsWord(i,j) ^ Splittable (j + 1)\n",
        "\n",
        "But for any fixed string A"
      ]
    },
    {
      "metadata": {
        "id": "ew-IJ39MQdYB",
        "colab_type": "code",
        "colab": {}
      },
      "cell_type": "code",
      "source": [
        "words =set([''])\n",
        "def is_splittable(): \n",
        "  IsWord(i,j) & S"
      ],
      "execution_count": 0,
      "outputs": []
    },
    {
      "metadata": {
        "id": "QEubNgBYQYvs",
        "colab_type": "code",
        "colab": {}
      },
      "cell_type": "code",
      "source": [
        "\n",
        "\n",
        "def placeQueens(q,r): \n",
        "  if r == n:\n",
        "    print(q)\n",
        "  else: \n",
        "    for i in range(0,n): \n",
        "      isLegal = True\n",
        "    \n",
        "      for j in range(0,r):\n",
        "        if q[j] == i or  q[j] == i - (r - j) or q[j] == i + (r -j) : \n",
        "          isLegal = False\n",
        "        \n",
        "      if isLegal:\n",
        "        q[r] = i\n",
        "        placeQueens(q,r+1)\n",
        "      #check if any of previous position has a clash ..."
      ],
      "execution_count": 0,
      "outputs": []
    },
    {
      "metadata": {
        "id": "_wyZBU4zE9YC",
        "colab_type": "code",
        "outputId": "07f39cbd-beed-466d-fb82-ba845993ee75",
        "colab": {
          "base_uri": "https://localhost:8080/",
          "height": 50
        }
      },
      "cell_type": "code",
      "source": [
        "n = 4\n",
        "q = [-1 for i in range(n)]\n",
        "placeQueens(q,0)"
      ],
      "execution_count": 0,
      "outputs": [
        {
          "output_type": "stream",
          "text": [
            "[1, 3, 0, 2]\n",
            "[2, 0, 3, 1]\n"
          ],
          "name": "stdout"
        }
      ]
    },
    {
      "metadata": {
        "id": "8z-kCuOIRGD-",
        "colab_type": "text"
      },
      "cell_type": "markdown",
      "source": [
        "Subset sum == \n",
        "\n",
        "\n"
      ]
    },
    {
      "metadata": {
        "id": "qjH3wz6BvfSR",
        "colab_type": "code",
        "colab": {}
      },
      "cell_type": "code",
      "source": [
        " def dice_roll_helper(seen_so_far,arr,n):\n",
        "  #print('from seen so far',seen_so_far)\n",
        "  if len(seen_so_far) == n:\n",
        "    print(seen_so_far)\n",
        "  else: \n",
        "    for i in range(len(arr)):\n",
        "      seen_so_far.append(arr[i])\n",
        "      #del arr[i]\n",
        "      dice_roll_helper(seen_so_far,arr,n)\n",
        "      #insert that element in the arr -- \n",
        "      val =  seen_so_far[-1]\n",
        "      del seen_so_far[-1]\n",
        "      #arr.insert(i,val)\n",
        "      \n",
        "      \n",
        "      \n",
        "\n",
        "def dice_roll(n):\n",
        "  arr = [i+1 for i in range(6)]\n",
        "  dice_roll_helper([],arr,n)\n",
        "  \n",
        "  "
      ],
      "execution_count": 0,
      "outputs": []
    },
    {
      "metadata": {
        "id": "2AObaUpXmn51",
        "colab_type": "code",
        "outputId": "75842c2f-2dca-4911-c19b-fcb94c18565d",
        "colab": {
          "base_uri": "https://localhost:8080/",
          "height": 3646
        }
      },
      "cell_type": "code",
      "source": [
        "dice_roll(3)"
      ],
      "execution_count": 0,
      "outputs": [
        {
          "output_type": "stream",
          "text": [
            "[1, 1, 1]\n",
            "[1, 1, 2]\n",
            "[1, 1, 3]\n",
            "[1, 1, 4]\n",
            "[1, 1, 5]\n",
            "[1, 1, 6]\n",
            "[1, 2, 1]\n",
            "[1, 2, 2]\n",
            "[1, 2, 3]\n",
            "[1, 2, 4]\n",
            "[1, 2, 5]\n",
            "[1, 2, 6]\n",
            "[1, 3, 1]\n",
            "[1, 3, 2]\n",
            "[1, 3, 3]\n",
            "[1, 3, 4]\n",
            "[1, 3, 5]\n",
            "[1, 3, 6]\n",
            "[1, 4, 1]\n",
            "[1, 4, 2]\n",
            "[1, 4, 3]\n",
            "[1, 4, 4]\n",
            "[1, 4, 5]\n",
            "[1, 4, 6]\n",
            "[1, 5, 1]\n",
            "[1, 5, 2]\n",
            "[1, 5, 3]\n",
            "[1, 5, 4]\n",
            "[1, 5, 5]\n",
            "[1, 5, 6]\n",
            "[1, 6, 1]\n",
            "[1, 6, 2]\n",
            "[1, 6, 3]\n",
            "[1, 6, 4]\n",
            "[1, 6, 5]\n",
            "[1, 6, 6]\n",
            "[2, 1, 1]\n",
            "[2, 1, 2]\n",
            "[2, 1, 3]\n",
            "[2, 1, 4]\n",
            "[2, 1, 5]\n",
            "[2, 1, 6]\n",
            "[2, 2, 1]\n",
            "[2, 2, 2]\n",
            "[2, 2, 3]\n",
            "[2, 2, 4]\n",
            "[2, 2, 5]\n",
            "[2, 2, 6]\n",
            "[2, 3, 1]\n",
            "[2, 3, 2]\n",
            "[2, 3, 3]\n",
            "[2, 3, 4]\n",
            "[2, 3, 5]\n",
            "[2, 3, 6]\n",
            "[2, 4, 1]\n",
            "[2, 4, 2]\n",
            "[2, 4, 3]\n",
            "[2, 4, 4]\n",
            "[2, 4, 5]\n",
            "[2, 4, 6]\n",
            "[2, 5, 1]\n",
            "[2, 5, 2]\n",
            "[2, 5, 3]\n",
            "[2, 5, 4]\n",
            "[2, 5, 5]\n",
            "[2, 5, 6]\n",
            "[2, 6, 1]\n",
            "[2, 6, 2]\n",
            "[2, 6, 3]\n",
            "[2, 6, 4]\n",
            "[2, 6, 5]\n",
            "[2, 6, 6]\n",
            "[3, 1, 1]\n",
            "[3, 1, 2]\n",
            "[3, 1, 3]\n",
            "[3, 1, 4]\n",
            "[3, 1, 5]\n",
            "[3, 1, 6]\n",
            "[3, 2, 1]\n",
            "[3, 2, 2]\n",
            "[3, 2, 3]\n",
            "[3, 2, 4]\n",
            "[3, 2, 5]\n",
            "[3, 2, 6]\n",
            "[3, 3, 1]\n",
            "[3, 3, 2]\n",
            "[3, 3, 3]\n",
            "[3, 3, 4]\n",
            "[3, 3, 5]\n",
            "[3, 3, 6]\n",
            "[3, 4, 1]\n",
            "[3, 4, 2]\n",
            "[3, 4, 3]\n",
            "[3, 4, 4]\n",
            "[3, 4, 5]\n",
            "[3, 4, 6]\n",
            "[3, 5, 1]\n",
            "[3, 5, 2]\n",
            "[3, 5, 3]\n",
            "[3, 5, 4]\n",
            "[3, 5, 5]\n",
            "[3, 5, 6]\n",
            "[3, 6, 1]\n",
            "[3, 6, 2]\n",
            "[3, 6, 3]\n",
            "[3, 6, 4]\n",
            "[3, 6, 5]\n",
            "[3, 6, 6]\n",
            "[4, 1, 1]\n",
            "[4, 1, 2]\n",
            "[4, 1, 3]\n",
            "[4, 1, 4]\n",
            "[4, 1, 5]\n",
            "[4, 1, 6]\n",
            "[4, 2, 1]\n",
            "[4, 2, 2]\n",
            "[4, 2, 3]\n",
            "[4, 2, 4]\n",
            "[4, 2, 5]\n",
            "[4, 2, 6]\n",
            "[4, 3, 1]\n",
            "[4, 3, 2]\n",
            "[4, 3, 3]\n",
            "[4, 3, 4]\n",
            "[4, 3, 5]\n",
            "[4, 3, 6]\n",
            "[4, 4, 1]\n",
            "[4, 4, 2]\n",
            "[4, 4, 3]\n",
            "[4, 4, 4]\n",
            "[4, 4, 5]\n",
            "[4, 4, 6]\n",
            "[4, 5, 1]\n",
            "[4, 5, 2]\n",
            "[4, 5, 3]\n",
            "[4, 5, 4]\n",
            "[4, 5, 5]\n",
            "[4, 5, 6]\n",
            "[4, 6, 1]\n",
            "[4, 6, 2]\n",
            "[4, 6, 3]\n",
            "[4, 6, 4]\n",
            "[4, 6, 5]\n",
            "[4, 6, 6]\n",
            "[5, 1, 1]\n",
            "[5, 1, 2]\n",
            "[5, 1, 3]\n",
            "[5, 1, 4]\n",
            "[5, 1, 5]\n",
            "[5, 1, 6]\n",
            "[5, 2, 1]\n",
            "[5, 2, 2]\n",
            "[5, 2, 3]\n",
            "[5, 2, 4]\n",
            "[5, 2, 5]\n",
            "[5, 2, 6]\n",
            "[5, 3, 1]\n",
            "[5, 3, 2]\n",
            "[5, 3, 3]\n",
            "[5, 3, 4]\n",
            "[5, 3, 5]\n",
            "[5, 3, 6]\n",
            "[5, 4, 1]\n",
            "[5, 4, 2]\n",
            "[5, 4, 3]\n",
            "[5, 4, 4]\n",
            "[5, 4, 5]\n",
            "[5, 4, 6]\n",
            "[5, 5, 1]\n",
            "[5, 5, 2]\n",
            "[5, 5, 3]\n",
            "[5, 5, 4]\n",
            "[5, 5, 5]\n",
            "[5, 5, 6]\n",
            "[5, 6, 1]\n",
            "[5, 6, 2]\n",
            "[5, 6, 3]\n",
            "[5, 6, 4]\n",
            "[5, 6, 5]\n",
            "[5, 6, 6]\n",
            "[6, 1, 1]\n",
            "[6, 1, 2]\n",
            "[6, 1, 3]\n",
            "[6, 1, 4]\n",
            "[6, 1, 5]\n",
            "[6, 1, 6]\n",
            "[6, 2, 1]\n",
            "[6, 2, 2]\n",
            "[6, 2, 3]\n",
            "[6, 2, 4]\n",
            "[6, 2, 5]\n",
            "[6, 2, 6]\n",
            "[6, 3, 1]\n",
            "[6, 3, 2]\n",
            "[6, 3, 3]\n",
            "[6, 3, 4]\n",
            "[6, 3, 5]\n",
            "[6, 3, 6]\n",
            "[6, 4, 1]\n",
            "[6, 4, 2]\n",
            "[6, 4, 3]\n",
            "[6, 4, 4]\n",
            "[6, 4, 5]\n",
            "[6, 4, 6]\n",
            "[6, 5, 1]\n",
            "[6, 5, 2]\n",
            "[6, 5, 3]\n",
            "[6, 5, 4]\n",
            "[6, 5, 5]\n",
            "[6, 5, 6]\n",
            "[6, 6, 1]\n",
            "[6, 6, 2]\n",
            "[6, 6, 3]\n",
            "[6, 6, 4]\n",
            "[6, 6, 5]\n",
            "[6, 6, 6]\n"
          ],
          "name": "stdout"
        }
      ]
    },
    {
      "metadata": {
        "id": "MIaeEhgyPcfT",
        "colab_type": "code",
        "colab": {}
      },
      "cell_type": "code",
      "source": [
        "def rollDice()"
      ],
      "execution_count": 0,
      "outputs": []
    },
    {
      "metadata": {
        "id": "wn1NOAkSPJ1m",
        "colab_type": "code",
        "colab": {}
      },
      "cell_type": "code",
      "source": [
        "def subsetSum(): \n",
        "  "
      ],
      "execution_count": 0,
      "outputs": []
    },
    {
      "metadata": {
        "id": "yBvFcLLTQD7j",
        "colab_type": "code",
        "colab": {}
      },
      "cell_type": "code",
      "source": [
        "def constructSubsetSum(): \n",
        "  "
      ],
      "execution_count": 0,
      "outputs": []
    }
  ]
}